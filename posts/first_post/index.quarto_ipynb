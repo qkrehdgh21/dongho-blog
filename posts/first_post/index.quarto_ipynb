{
  "cells": [
    {
      "cell_type": "markdown",
      "metadata": {},
      "source": [
        "---\n",
        "title: \"first post\"\n",
        "author: \"dongho\"\n",
        "date: \"2025-03-07\"\n",
        "categories: [python, pandas, numpy]\n",
        "image: \"firtst_post.jpg\"\n",
        "---\n",
        "\n",
        "\n",
        "\n",
        "\n",
        "\n",
        "\n",
        "\n",
        "## 파이썬 데이터 분석\n",
        "\n",
        "### 넘파이\n",
        "\n",
        "넘파이 패키지를 불러옵시다\n"
      ],
      "id": "f341bf87"
    },
    {
      "cell_type": "code",
      "metadata": {},
      "source": [
        "import numpy as np\n",
        "\n",
        "a = np.array([1,2,3])"
      ],
      "id": "c386e094",
      "execution_count": null,
      "outputs": []
    },
    {
      "cell_type": "markdown",
      "metadata": {},
      "source": [
        "### 판다스\n",
        "\n",
        "판다스 패키지를 불러옵니다.\n"
      ],
      "id": "5baeff17"
    },
    {
      "cell_type": "code",
      "metadata": {},
      "source": [
        "import pandas as pd\n"
      ],
      "id": "e97e0b98",
      "execution_count": null,
      "outputs": []
    }
  ],
  "metadata": {
    "kernelspec": {
      "name": "python3",
      "language": "python",
      "display_name": "Python 3 (ipykernel)",
      "path": "C:\\Users\\USER\\AppData\\Roaming\\Python\\share\\jupyter\\kernels\\python3"
    }
  },
  "nbformat": 4,
  "nbformat_minor": 5
}