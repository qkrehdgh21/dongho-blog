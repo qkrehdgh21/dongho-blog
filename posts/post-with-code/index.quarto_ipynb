{
  "cells": [
    {
      "cell_type": "raw",
      "metadata": {},
      "source": [
        "---\n",
        "title: \"Post With Code\"\n",
        "author: \"Harlow Malloc\"\n",
        "date: \"2025-03-06\"\n",
        "categories: [news, code, analysis]\n",
        "image: \"image.jpg\"\n",
        "---\n",
        "\n",
        "\n",
        "This is a post with executable code.\n",
        "\n",
        " ---\n",
        "title: \"Palmer-Penguins 분석\"\n",
        "format: html\n",
        "jupyter: python3\n",
        "\n",
        "---"
      ],
      "id": "f2e6d63f"
    },
    {
      "cell_type": "markdown",
      "metadata": {},
      "source": [
        "4조: 박동호, 김윤희, 남원정\n",
        "\n",
        "# 분석 주제: 팔머 펭귄 종들에 대한 특징 파악\n",
        "\n",
        "## 1. 팔머 펭귄 데이터 파악\n",
        "- 변수명 정의\n",
        "    - species: 펭귄의 종\n",
        "    - island: 펭귄이 서식하는 섬\n",
        "    - bill_length_mm: 부리의 길이(밀리미터 단위)\n",
        "    - bill_depth_mm: 부리의 깊이(밀리미터 단위)\n",
        "    - flipper_length_mm: 날개의 길이(밀리미터 단위)\n",
        "    - body_mass_g: 몸무게(그램 단위)\n",
        "    - sex: 펭귄의 성별\n",
        "    - year: 데이터가 수집된 연도\n",
        "\n",
        "### 1. 데이터 및 라이브러리 불러오기"
      ],
      "id": "8dee593f"
    },
    {
      "cell_type": "code",
      "metadata": {},
      "source": [
        "import pandas as pd\n",
        "import numpy as np\n",
        "\n",
        "from palmerpenguins import load_penguins\n",
        "penguins = load_penguins()"
      ],
      "id": "aa9b71f2",
      "execution_count": null,
      "outputs": []
    },
    {
      "cell_type": "markdown",
      "metadata": {},
      "source": [
        "### 2. 데이터 보기"
      ],
      "id": "acd290d5"
    },
    {
      "cell_type": "code",
      "metadata": {},
      "source": [
        "penguins.head()"
      ],
      "id": "32924faa",
      "execution_count": null,
      "outputs": []
    },
    {
      "cell_type": "code",
      "metadata": {},
      "source": [
        "penguins.info()"
      ],
      "id": "7ebcd928",
      "execution_count": null,
      "outputs": []
    },
    {
      "cell_type": "markdown",
      "metadata": {},
      "source": [
        "### 3. 펭귄 종 파악"
      ],
      "id": "3214c78b"
    },
    {
      "cell_type": "code",
      "metadata": {},
      "source": [
        "penguins['species'].value_counts()"
      ],
      "id": "598e7f63",
      "execution_count": null,
      "outputs": []
    },
    {
      "cell_type": "markdown",
      "metadata": {},
      "source": [
        "Adelie, Gentoo, Chinstrap 종이 각각 152, 124, 68마리 데이터가 있는 것을 확인할 수 있다.\n",
        "\n",
        "## 2.  결측값 처리\n",
        "### 1. 결측값 파악\n",
        "- 부리의 길이, 부리의 깊이, 날개의 길이, 몸무게, 성별에 결측값 존재."
      ],
      "id": "afee5a05"
    },
    {
      "cell_type": "code",
      "metadata": {},
      "source": [
        "penguins.isna().sum()\n",
        "penguins"
      ],
      "id": "b5c17801",
      "execution_count": null,
      "outputs": []
    },
    {
      "cell_type": "markdown",
      "metadata": {},
      "source": [
        "- 부리의 길이, 부리의 깊이, 날개의 길이, 몸무게 변수의 결측치가 같은 행에 있음."
      ],
      "id": "d99a7ce5"
    },
    {
      "cell_type": "code",
      "metadata": {},
      "source": [
        "penguins[penguins['bill_length_mm'].isna()]"
      ],
      "id": "53cefa03",
      "execution_count": null,
      "outputs": []
    },
    {
      "cell_type": "markdown",
      "metadata": {},
      "source": [
        "### 2. 결측값 제거\n",
        "\n",
        "- 성별을 제외한 나머지 결측값이 같은 행에 있어, 그 행들을 제외하고 분석 수행."
      ],
      "id": "46ccc29f"
    },
    {
      "cell_type": "code",
      "metadata": {},
      "source": [
        "new_penguins = penguins[~penguins['bill_length_mm'].isna()]"
      ],
      "id": "9a623022",
      "execution_count": null,
      "outputs": []
    },
    {
      "cell_type": "markdown",
      "metadata": {},
      "source": [
        "## 3. 종별 특징 파악\n",
        "### 1) 종별로 데이터 나누기 "
      ],
      "id": "37472f99"
    },
    {
      "cell_type": "code",
      "metadata": {},
      "source": [
        "Adelie_peng = new_penguins.loc[new_penguins['species'] == 'Adelie']\n",
        "Gentoo_peng = new_penguins.loc[new_penguins['species'] == 'Gentoo']\n",
        "Chinstrap_peng = new_penguins.loc[new_penguins['species'] == 'Chinstrap']"
      ],
      "id": "f4cfa2f7",
      "execution_count": null,
      "outputs": []
    },
    {
      "cell_type": "markdown",
      "metadata": {},
      "source": [
        "### 2) 종별 사는 서식지 비교\n",
        "\n",
        "-   **`Adelie`**는 Dream, Torgersen, Biscoe 지역에 서식하며, **`gentoo`**는 Biscoe에 살고 **`Chinstrap`**는 Dream에 서식하고 있음"
      ],
      "id": "ad10b462"
    },
    {
      "cell_type": "code",
      "metadata": {},
      "source": [
        "print(Adelie_peng['island'].value_counts().rename('Adelie'),'\\n') #Adelie의 사는 지역 \n",
        "print(Gentoo_peng['island'].value_counts().rename('Gentoo'),'\\n') # Gentoo의 사는 지역\n",
        "print(Chinstrap_peng['island'].value_counts().rename('Chinstrap'),'\\n') # Chinstrap의 사는 지역"
      ],
      "id": "d195dc6c",
      "execution_count": null,
      "outputs": []
    },
    {
      "cell_type": "markdown",
      "metadata": {},
      "source": [
        "### 3) 종별 신체 특징 비교\n",
        "- **`Adelie`** 가 평균적으로 `부리길이가 작은 편`에 속하고, `지느러미가 짧은 편`임.\n",
        "-   **`gentoo`**가 평균적으로 부리의 길이에 비해 폭이 길고 `무게가 상대적으로 조금 더 나가는 편`이고 `지느러미 길이가 큰 편`이고 평균적으로 몸무게도 제일 많이 나감\n",
        "\n",
        "-   **`Chinstrap`**는 지느러미 길이에서 `표준편차가 큰 편`이었음"
      ],
      "id": "94872a3d"
    },
    {
      "cell_type": "code",
      "metadata": {},
      "source": [
        "Adelie_peng.describe(),'\\n'   # Adelie의 기술통계량\n",
        "Gentoo_peng.describe(),'\\n'   # Gentoo 기술통계량\n",
        "Chinstrap_peng.describe(),'\\n' # Chinstrap 기술통계량\n",
        "\n",
        "pd.concat([Adelie_peng.describe(), Gentoo_peng.describe(), Chinstrap_peng.describe()],keys=['Adelie','Gentoo','Chinstrap'])"
      ],
      "id": "1fc23a9e",
      "execution_count": null,
      "outputs": []
    },
    {
      "cell_type": "markdown",
      "metadata": {},
      "source": [
        "| 펭귄 평균       | bill_length_mm | bill_depth_mm  | flipper_length_mm | body_mass_g |\n",
        "|-----------------|----------------|----------------|-------------------|-------------|\n",
        "| **`Adelie`**    | 38.791391      | 18.346358      | 189.953642        | 3700.662252 |\n",
        "| **`gentoo`**    | 47.504878      | 14.982114      | 217.186992        | 5076.016260 |\n",
        "| **`Chinstrap`** | 48.833824      | 18.420588      | 195.823529        | 3733.088235 |\n",
        "\n",
        "| 펭귄 최소       | bill_length_mm | bill_depth_mm | flipper_length_mm | body_mass_g |\n",
        "|-----------------|----------------|---------------|-------------------|-------------|\n",
        "| **`Adelie`**    | 32.100000      | 15.500000     | 172.000000        | 2850.000000 |\n",
        "| **`gentoo`**    | 40.900000      | 13.100000     | 203.000000        | 3950.000000 |\n",
        "| **`Chinstrap`** | 40.900000      | 16.40000      | 178.000000        | 2700.00000  |\n",
        "\n",
        "| 펭귄 최대       | bill_length_mm | bill_depth_mm | flipper_length_mm | body_mass_g |\n",
        "|-----------------|----------------|---------------|-------------------|-------------|\n",
        "| **`Adelie`**    | 46.000000      | 21.500000     | 210.000000        | 4775.000000 |\n",
        "| **`gentoo`**    | 59.600000      | 17.300000     | 231.000000        | 6300.000000 |\n",
        "| **`Chinstrap`** | 58.000000      | 20.800000     | 212.000000        | 4800.000000 |\n",
        "\n",
        "\n",
        "\n",
        "\n",
        "### 4) 종별 성별 개체 수 비교\n",
        "- 각 종별 성별 개체 수 차이는 크게 나지 않는다. "
      ],
      "id": "23f9eba2"
    },
    {
      "cell_type": "code",
      "metadata": {},
      "source": [
        "print(Adelie_peng['sex'].value_counts().rename('Adelie'),'\\n')   #Adelie의 성별 개체 수\n",
        "print(Gentoo_peng['sex'].value_counts().rename('Gentoo'),'\\n')   #Gentoo 성별 개체 수\n",
        "print(Chinstrap_peng['sex'].value_counts().rename('Chinstrap'),'\\n') #Chinstrap 성별 개체 수"
      ],
      "id": "9d4c0d23",
      "execution_count": null,
      "outputs": []
    },
    {
      "cell_type": "markdown",
      "metadata": {},
      "source": [
        "### 5) 종별 연도별 개체 수 비교\n",
        "-   가장 많이 관찰된 년도는 **`Adelie`**는 2009년, **`gentoo`** 2008년,**`Chinstrap`**는 2007년에 가장 많았음"
      ],
      "id": "192892d9"
    },
    {
      "cell_type": "code",
      "metadata": {},
      "source": [
        "print(Adelie_peng['year'].value_counts().rename('Adelie'),'\\n')  #Adelie의 연도별 개체수\n",
        "print(Gentoo_peng['year'].value_counts().rename('Gentoo'),'\\n')  #Gentoo의 연도별 개체수\n",
        "print(Chinstrap_peng['year'].value_counts().rename('Chinstrap').rename('Chinstrap'),'\\n') #Chinstrap의 연도별 개체수"
      ],
      "id": "ca758365",
      "execution_count": null,
      "outputs": []
    }
  ],
  "metadata": {
    "kernelspec": {
      "name": "python3",
      "language": "python",
      "display_name": "Python 3 (ipykernel)",
      "path": "C:\\Users\\USER\\AppData\\Roaming\\Python\\share\\jupyter\\kernels\\python3"
    }
  },
  "nbformat": 4,
  "nbformat_minor": 5
}